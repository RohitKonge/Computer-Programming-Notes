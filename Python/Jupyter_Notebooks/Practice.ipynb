{
 "cells": [
  {
   "cell_type": "code",
   "execution_count": 6,
   "id": "bf66d865",
   "metadata": {},
   "outputs": [
    {
     "data": {
      "text/plain": [
       "[<matplotlib.lines.Line2D at 0x15da6f4f070>,\n",
       " <matplotlib.lines.Line2D at 0x15da6f4f2b0>]"
      ]
     },
     "execution_count": 6,
     "metadata": {},
     "output_type": "execute_result"
    },
    {
     "data": {
      "image/png": "[encoded data removed]",
      "text/plain": [
       "<Figure size 1100x600 with 1 Axes>"
      ]
     },
     "metadata": {},
     "output_type": "display_data"
    }
   ],
   "source": [
    "import numpy as np, pandas as pd, seaborn as sns\n",
    "import matplotlib.pyplot as plt\n",
    "%matplotlib inline\n",
    "\n",
    "plt.style.use(\"seaborn-whitegrid\")\n",
    "\n",
    "fig1 = plt.figure(1, (11,6), 100)\n",
    "axes1 = fig1.add_axes([0.00,0.00,0.3,0.3])\n",
    "x=np.linspace(0,10,30)\n",
    "\n",
    "axes1.plot(x, np.sin(x),'o','k', ms= 2.8, lw = 0.2 )"
   ]
  },
  {
   "cell_type": "code",
   "execution_count": 7,
   "id": "226f77b4",
   "metadata": {},
   "outputs": [
    {
     "ename": "FileNotFoundError",
     "evalue": "[Errno 2] No such file or directory: 'E:/Computer Programming/Course - Python Data Science/Py_DS_ML_Bootcamp-master/07-Pandas-Built-in-Data-Viz/df3'",
     "output_type": "error",
     "traceback": [
      "\u001b[1;31m---------------------------------------------------------------------------\u001b[0m",
      "\u001b[1;31mFileNotFoundError\u001b[0m                         Traceback (most recent call last)",
      "Input \u001b[1;32mIn [7]\u001b[0m, in \u001b[0;36m<cell line: 1>\u001b[1;34m()\u001b[0m\n\u001b[1;32m----> 1\u001b[0m df1 \u001b[38;5;241m=\u001b[39m \u001b[43mpd\u001b[49m\u001b[38;5;241;43m.\u001b[39;49m\u001b[43mread_csv\u001b[49m\u001b[43m(\u001b[49m\u001b[38;5;124;43m'\u001b[39;49m\u001b[38;5;124;43mE:/Computer Programming/Course - Python Data Science/Py_DS_ML_Bootcamp-master/07-Pandas-Built-in-Data-Viz/df3\u001b[39;49m\u001b[38;5;124;43m'\u001b[39;49m\u001b[43m)\u001b[49m\n\u001b[0;32m      2\u001b[0m df1\n",
      "File \u001b[1;32m~\\anaconda3\\lib\\site-packages\\pandas\\util\\_decorators.py:311\u001b[0m, in \u001b[0;36mdeprecate_nonkeyword_arguments.<locals>.decorate.<locals>.wrapper\u001b[1;34m(*args, **kwargs)\u001b[0m\n\u001b[0;32m    305\u001b[0m \u001b[38;5;28;01mif\u001b[39;00m \u001b[38;5;28mlen\u001b[39m(args) \u001b[38;5;241m>\u001b[39m num_allow_args:\n\u001b[0;32m    306\u001b[0m     warnings\u001b[38;5;241m.\u001b[39mwarn(\n\u001b[0;32m    307\u001b[0m         msg\u001b[38;5;241m.\u001b[39mformat(arguments\u001b[38;5;241m=\u001b[39marguments),\n\u001b[0;32m    308\u001b[0m         \u001b[38;5;167;01mFutureWarning\u001b[39;00m,\n\u001b[0;32m    309\u001b[0m         stacklevel\u001b[38;5;241m=\u001b[39mstacklevel,\n\u001b[0;32m    310\u001b[0m     )\n\u001b[1;32m--> 311\u001b[0m \u001b[38;5;28;01mreturn\u001b[39;00m func(\u001b[38;5;241m*\u001b[39margs, \u001b[38;5;241m*\u001b[39m\u001b[38;5;241m*\u001b[39mkwargs)\n",
      "File \u001b[1;32m~\\anaconda3\\lib\\site-packages\\pandas\\io\\parsers\\readers.py:680\u001b[0m, in \u001b[0;36mread_csv\u001b[1;34m(filepath_or_buffer, sep, delimiter, header, names, index_col, usecols, squeeze, prefix, mangle_dupe_cols, dtype, engine, converters, true_values, false_values, skipinitialspace, skiprows, skipfooter, nrows, na_values, keep_default_na, na_filter, verbose, skip_blank_lines, parse_dates, infer_datetime_format, keep_date_col, date_parser, dayfirst, cache_dates, iterator, chunksize, compression, thousands, decimal, lineterminator, quotechar, quoting, doublequote, escapechar, comment, encoding, encoding_errors, dialect, error_bad_lines, warn_bad_lines, on_bad_lines, delim_whitespace, low_memory, memory_map, float_precision, storage_options)\u001b[0m\n\u001b[0;32m    665\u001b[0m kwds_defaults \u001b[38;5;241m=\u001b[39m _refine_defaults_read(\n\u001b[0;32m    666\u001b[0m     dialect,\n\u001b[0;32m    667\u001b[0m     delimiter,\n\u001b[1;32m   (...)\u001b[0m\n\u001b[0;32m    676\u001b[0m     defaults\u001b[38;5;241m=\u001b[39m{\u001b[38;5;124m\"\u001b[39m\u001b[38;5;124mdelimiter\u001b[39m\u001b[38;5;124m\"\u001b[39m: \u001b[38;5;124m\"\u001b[39m\u001b[38;5;124m,\u001b[39m\u001b[38;5;124m\"\u001b[39m},\n\u001b[0;32m    677\u001b[0m )\n\u001b[0;32m    678\u001b[0m kwds\u001b[38;5;241m.\u001b[39mupdate(kwds_defaults)\n\u001b[1;32m--> 680\u001b[0m \u001b[38;5;28;01mreturn\u001b[39;00m \u001b[43m_read\u001b[49m\u001b[43m(\u001b[49m\u001b[43mfilepath_or_buffer\u001b[49m\u001b[43m,\u001b[49m\u001b[43m \u001b[49m\u001b[43mkwds\u001b[49m\u001b[43m)\u001b[49m\n",
      "File \u001b[1;32m~\\anaconda3\\lib\\site-packages\\pandas\\io\\parsers\\readers.py:575\u001b[0m, in \u001b[0;36m_read\u001b[1;34m(filepath_or_buffer, kwds)\u001b[0m\n\u001b[0;32m    572\u001b[0m _validate_names(kwds\u001b[38;5;241m.\u001b[39mget(\u001b[38;5;124m\"\u001b[39m\u001b[38;5;124mnames\u001b[39m\u001b[38;5;124m\"\u001b[39m, \u001b[38;5;28;01mNone\u001b[39;00m))\n\u001b[0;32m    574\u001b[0m \u001b[38;5;66;03m# Create the parser.\u001b[39;00m\n\u001b[1;32m--> 575\u001b[0m parser \u001b[38;5;241m=\u001b[39m TextFileReader(filepath_or_buffer, \u001b[38;5;241m*\u001b[39m\u001b[38;5;241m*\u001b[39mkwds)\n\u001b[0;32m    577\u001b[0m \u001b[38;5;28;01mif\u001b[39;00m chunksize \u001b[38;5;129;01mor\u001b[39;00m iterator:\n\u001b[0;32m    578\u001b[0m     \u001b[38;5;28;01mreturn\u001b[39;00m parser\n",
      "File \u001b[1;32m~\\anaconda3\\lib\\site-packages\\pandas\\io\\parsers\\readers.py:933\u001b[0m, in \u001b[0;36mTextFileReader.__init__\u001b[1;34m(self, f, engine, **kwds)\u001b[0m\n\u001b[0;32m    930\u001b[0m     \u001b[38;5;28mself\u001b[39m\u001b[38;5;241m.\u001b[39moptions[\u001b[38;5;124m\"\u001b[39m\u001b[38;5;124mhas_index_names\u001b[39m\u001b[38;5;124m\"\u001b[39m] \u001b[38;5;241m=\u001b[39m kwds[\u001b[38;5;124m\"\u001b[39m\u001b[38;5;124mhas_index_names\u001b[39m\u001b[38;5;124m\"\u001b[39m]\n\u001b[0;32m    932\u001b[0m \u001b[38;5;28mself\u001b[39m\u001b[38;5;241m.\u001b[39mhandles: IOHandles \u001b[38;5;241m|\u001b[39m \u001b[38;5;28;01mNone\u001b[39;00m \u001b[38;5;241m=\u001b[39m \u001b[38;5;28;01mNone\u001b[39;00m\n\u001b[1;32m--> 933\u001b[0m \u001b[38;5;28mself\u001b[39m\u001b[38;5;241m.\u001b[39m_engine \u001b[38;5;241m=\u001b[39m \u001b[38;5;28;43mself\u001b[39;49m\u001b[38;5;241;43m.\u001b[39;49m\u001b[43m_make_engine\u001b[49m\u001b[43m(\u001b[49m\u001b[43mf\u001b[49m\u001b[43m,\u001b[49m\u001b[43m \u001b[49m\u001b[38;5;28;43mself\u001b[39;49m\u001b[38;5;241;43m.\u001b[39;49m\u001b[43mengine\u001b[49m\u001b[43m)\u001b[49m\n",
      "File \u001b[1;32m~\\anaconda3\\lib\\site-packages\\pandas\\io\\parsers\\readers.py:1217\u001b[0m, in \u001b[0;36mTextFileReader._make_engine\u001b[1;34m(self, f, engine)\u001b[0m\n\u001b[0;32m   1213\u001b[0m     mode \u001b[38;5;241m=\u001b[39m \u001b[38;5;124m\"\u001b[39m\u001b[38;5;124mrb\u001b[39m\u001b[38;5;124m\"\u001b[39m\n\u001b[0;32m   1214\u001b[0m \u001b[38;5;66;03m# error: No overload variant of \"get_handle\" matches argument types\u001b[39;00m\n\u001b[0;32m   1215\u001b[0m \u001b[38;5;66;03m# \"Union[str, PathLike[str], ReadCsvBuffer[bytes], ReadCsvBuffer[str]]\"\u001b[39;00m\n\u001b[0;32m   1216\u001b[0m \u001b[38;5;66;03m# , \"str\", \"bool\", \"Any\", \"Any\", \"Any\", \"Any\", \"Any\"\u001b[39;00m\n\u001b[1;32m-> 1217\u001b[0m \u001b[38;5;28mself\u001b[39m\u001b[38;5;241m.\u001b[39mhandles \u001b[38;5;241m=\u001b[39m \u001b[43mget_handle\u001b[49m\u001b[43m(\u001b[49m\u001b[43m  \u001b[49m\u001b[38;5;66;43;03m# type: ignore[call-overload]\u001b[39;49;00m\n\u001b[0;32m   1218\u001b[0m \u001b[43m    \u001b[49m\u001b[43mf\u001b[49m\u001b[43m,\u001b[49m\n\u001b[0;32m   1219\u001b[0m \u001b[43m    \u001b[49m\u001b[43mmode\u001b[49m\u001b[43m,\u001b[49m\n\u001b[0;32m   1220\u001b[0m \u001b[43m    \u001b[49m\u001b[43mencoding\u001b[49m\u001b[38;5;241;43m=\u001b[39;49m\u001b[38;5;28;43mself\u001b[39;49m\u001b[38;5;241;43m.\u001b[39;49m\u001b[43moptions\u001b[49m\u001b[38;5;241;43m.\u001b[39;49m\u001b[43mget\u001b[49m\u001b[43m(\u001b[49m\u001b[38;5;124;43m\"\u001b[39;49m\u001b[38;5;124;43mencoding\u001b[39;49m\u001b[38;5;124;43m\"\u001b[39;49m\u001b[43m,\u001b[49m\u001b[43m \u001b[49m\u001b[38;5;28;43;01mNone\u001b[39;49;00m\u001b[43m)\u001b[49m\u001b[43m,\u001b[49m\n\u001b[0;32m   1221\u001b[0m \u001b[43m    \u001b[49m\u001b[43mcompression\u001b[49m\u001b[38;5;241;43m=\u001b[39;49m\u001b[38;5;28;43mself\u001b[39;49m\u001b[38;5;241;43m.\u001b[39;49m\u001b[43moptions\u001b[49m\u001b[38;5;241;43m.\u001b[39;49m\u001b[43mget\u001b[49m\u001b[43m(\u001b[49m\u001b[38;5;124;43m\"\u001b[39;49m\u001b[38;5;124;43mcompression\u001b[39;49m\u001b[38;5;124;43m\"\u001b[39;49m\u001b[43m,\u001b[49m\u001b[43m \u001b[49m\u001b[38;5;28;43;01mNone\u001b[39;49;00m\u001b[43m)\u001b[49m\u001b[43m,\u001b[49m\n\u001b[0;32m   1222\u001b[0m \u001b[43m    \u001b[49m\u001b[43mmemory_map\u001b[49m\u001b[38;5;241;43m=\u001b[39;49m\u001b[38;5;28;43mself\u001b[39;49m\u001b[38;5;241;43m.\u001b[39;49m\u001b[43moptions\u001b[49m\u001b[38;5;241;43m.\u001b[39;49m\u001b[43mget\u001b[49m\u001b[43m(\u001b[49m\u001b[38;5;124;43m\"\u001b[39;49m\u001b[38;5;124;43mmemory_map\u001b[39;49m\u001b[38;5;124;43m\"\u001b[39;49m\u001b[43m,\u001b[49m\u001b[43m \u001b[49m\u001b[38;5;28;43;01mFalse\u001b[39;49;00m\u001b[43m)\u001b[49m\u001b[43m,\u001b[49m\n\u001b[0;32m   1223\u001b[0m \u001b[43m    \u001b[49m\u001b[43mis_text\u001b[49m\u001b[38;5;241;43m=\u001b[39;49m\u001b[43mis_text\u001b[49m\u001b[43m,\u001b[49m\n\u001b[0;32m   1224\u001b[0m \u001b[43m    \u001b[49m\u001b[43merrors\u001b[49m\u001b[38;5;241;43m=\u001b[39;49m\u001b[38;5;28;43mself\u001b[39;49m\u001b[38;5;241;43m.\u001b[39;49m\u001b[43moptions\u001b[49m\u001b[38;5;241;43m.\u001b[39;49m\u001b[43mget\u001b[49m\u001b[43m(\u001b[49m\u001b[38;5;124;43m\"\u001b[39;49m\u001b[38;5;124;43mencoding_errors\u001b[39;49m\u001b[38;5;124;43m\"\u001b[39;49m\u001b[43m,\u001b[49m\u001b[43m \u001b[49m\u001b[38;5;124;43m\"\u001b[39;49m\u001b[38;5;124;43mstrict\u001b[39;49m\u001b[38;5;124;43m\"\u001b[39;49m\u001b[43m)\u001b[49m\u001b[43m,\u001b[49m\n\u001b[0;32m   1225\u001b[0m \u001b[43m    \u001b[49m\u001b[43mstorage_options\u001b[49m\u001b[38;5;241;43m=\u001b[39;49m\u001b[38;5;28;43mself\u001b[39;49m\u001b[38;5;241;43m.\u001b[39;49m\u001b[43moptions\u001b[49m\u001b[38;5;241;43m.\u001b[39;49m\u001b[43mget\u001b[49m\u001b[43m(\u001b[49m\u001b[38;5;124;43m\"\u001b[39;49m\u001b[38;5;124;43mstorage_options\u001b[39;49m\u001b[38;5;124;43m\"\u001b[39;49m\u001b[43m,\u001b[49m\u001b[43m \u001b[49m\u001b[38;5;28;43;01mNone\u001b[39;49;00m\u001b[43m)\u001b[49m\u001b[43m,\u001b[49m\n\u001b[0;32m   1226\u001b[0m \u001b[43m\u001b[49m\u001b[43m)\u001b[49m\n\u001b[0;32m   1227\u001b[0m \u001b[38;5;28;01massert\u001b[39;00m \u001b[38;5;28mself\u001b[39m\u001b[38;5;241m.\u001b[39mhandles \u001b[38;5;129;01mis\u001b[39;00m \u001b[38;5;129;01mnot\u001b[39;00m \u001b[38;5;28;01mNone\u001b[39;00m\n\u001b[0;32m   1228\u001b[0m f \u001b[38;5;241m=\u001b[39m \u001b[38;5;28mself\u001b[39m\u001b[38;5;241m.\u001b[39mhandles\u001b[38;5;241m.\u001b[39mhandle\n",
      "File \u001b[1;32m~\\anaconda3\\lib\\site-packages\\pandas\\io\\common.py:789\u001b[0m, in \u001b[0;36mget_handle\u001b[1;34m(path_or_buf, mode, encoding, compression, memory_map, is_text, errors, storage_options)\u001b[0m\n\u001b[0;32m    784\u001b[0m \u001b[38;5;28;01melif\u001b[39;00m \u001b[38;5;28misinstance\u001b[39m(handle, \u001b[38;5;28mstr\u001b[39m):\n\u001b[0;32m    785\u001b[0m     \u001b[38;5;66;03m# Check whether the filename is to be opened in binary mode.\u001b[39;00m\n\u001b[0;32m    786\u001b[0m     \u001b[38;5;66;03m# Binary mode does not support 'encoding' and 'newline'.\u001b[39;00m\n\u001b[0;32m    787\u001b[0m     \u001b[38;5;28;01mif\u001b[39;00m ioargs\u001b[38;5;241m.\u001b[39mencoding \u001b[38;5;129;01mand\u001b[39;00m \u001b[38;5;124m\"\u001b[39m\u001b[38;5;124mb\u001b[39m\u001b[38;5;124m\"\u001b[39m \u001b[38;5;129;01mnot\u001b[39;00m \u001b[38;5;129;01min\u001b[39;00m ioargs\u001b[38;5;241m.\u001b[39mmode:\n\u001b[0;32m    788\u001b[0m         \u001b[38;5;66;03m# Encoding\u001b[39;00m\n\u001b[1;32m--> 789\u001b[0m         handle \u001b[38;5;241m=\u001b[39m \u001b[38;5;28;43mopen\u001b[39;49m\u001b[43m(\u001b[49m\n\u001b[0;32m    790\u001b[0m \u001b[43m            \u001b[49m\u001b[43mhandle\u001b[49m\u001b[43m,\u001b[49m\n\u001b[0;32m    791\u001b[0m \u001b[43m            \u001b[49m\u001b[43mioargs\u001b[49m\u001b[38;5;241;43m.\u001b[39;49m\u001b[43mmode\u001b[49m\u001b[43m,\u001b[49m\n\u001b[0;32m    792\u001b[0m \u001b[43m            \u001b[49m\u001b[43mencoding\u001b[49m\u001b[38;5;241;43m=\u001b[39;49m\u001b[43mioargs\u001b[49m\u001b[38;5;241;43m.\u001b[39;49m\u001b[43mencoding\u001b[49m\u001b[43m,\u001b[49m\n\u001b[0;32m    793\u001b[0m \u001b[43m            \u001b[49m\u001b[43merrors\u001b[49m\u001b[38;5;241;43m=\u001b[39;49m\u001b[43merrors\u001b[49m\u001b[43m,\u001b[49m\n\u001b[0;32m    794\u001b[0m \u001b[43m            \u001b[49m\u001b[43mnewline\u001b[49m\u001b[38;5;241;43m=\u001b[39;49m\u001b[38;5;124;43m\"\u001b[39;49m\u001b[38;5;124;43m\"\u001b[39;49m\u001b[43m,\u001b[49m\n\u001b[0;32m    795\u001b[0m \u001b[43m        \u001b[49m\u001b[43m)\u001b[49m\n\u001b[0;32m    796\u001b[0m     \u001b[38;5;28;01melse\u001b[39;00m:\n\u001b[0;32m    797\u001b[0m         \u001b[38;5;66;03m# Binary mode\u001b[39;00m\n\u001b[0;32m    798\u001b[0m         handle \u001b[38;5;241m=\u001b[39m \u001b[38;5;28mopen\u001b[39m(handle, ioargs\u001b[38;5;241m.\u001b[39mmode)\n",
      "\u001b[1;31mFileNotFoundError\u001b[0m: [Errno 2] No such file or directory: 'E:/Computer Programming/Course - Python Data Science/Py_DS_ML_Bootcamp-master/07-Pandas-Built-in-Data-Viz/df3'"
     ]
    }
   ],
   "source": [
    "df1 = pd.read_csv('E:/Computer Programming/Course - Python Data Science/Py_DS_ML_Bootcamp-master/07-Pandas-Built-in-Data-Viz/df3')\n",
    "df1"
   ]
  },
  {
   "cell_type": "code",
   "execution_count": null,
   "id": "359935e7",
   "metadata": {},
   "outputs": [],
   "source": [
    "df1.plot.scatter(x = 'a', y = 'b', color = 'r', xlim = (-0.2,1.2), ylim = (-0.2,1.2), figsize = (9,2), grid = False, s = 19)\n"
   ]
  },
  {
   "cell_type": "code",
   "execution_count": null,
   "id": "afc87fbb",
   "metadata": {},
   "outputs": [],
   "source": [
    "df1['a'].plot.hist()"
   ]
  },
  {
   "cell_type": "code",
   "execution_count": null,
   "id": "ae0cda09",
   "metadata": {},
   "outputs": [],
   "source": [
    "plt.style.use('ggplot')\n",
    "df1['a'].plot.hist(style = 'ggplot', xlim = (0,1), bins = 25)"
   ]
  },
  {
   "cell_type": "code",
   "execution_count": null,
   "id": "79533999",
   "metadata": {},
   "outputs": [],
   "source": [
    "df1[['a','b']].plot.box()"
   ]
  },
  {
   "cell_type": "code",
   "execution_count": null,
   "id": "5d308ab0",
   "metadata": {},
   "outputs": [],
   "source": [
    "df1['d'].plot.kde(lw = 4, ls = 'dashed')"
   ]
  },
  {
   "cell_type": "code",
   "execution_count": null,
   "id": "7c90e45b",
   "metadata": {},
   "outputs": [],
   "source": [
    "df1.head(30).plot.area(alpha = 0.7, figsize = (9,6))\n",
    "plt.legend(loc = (1.03,0.5))"
   ]
  },
  {
   "cell_type": "code",
   "execution_count": null,
   "id": "2fdfa218",
   "metadata": {},
   "outputs": [],
   "source": [
    "df1 = pd.read_csv('Downloads/DOGE-USD.csv')\n",
    "df1"
   ]
  },
  {
   "cell_type": "code",
   "execution_count": null,
   "id": "fdd52e3e",
   "metadata": {},
   "outputs": [],
   "source": [
    "df2 = pd.read_csv('Downloads/ds_salaries.csv')\n",
    "df2"
   ]
  },
  {
   "cell_type": "code",
   "execution_count": null,
   "id": "a748ec27",
   "metadata": {},
   "outputs": [],
   "source": [
    "t = df2['job_title'].unique()\n",
    "a  = pd.Series(data = t)\n",
    "b = df2.groupby(by = 'job_title')\n",
    "b\n",
    "# df2[['salary_in_usd', 'experience_level', 'employee_residence']].iloc[606]\n",
    "set(df2[(df2['salary_in_usd'] >= 150000) & (df2['salary_in_usd'] <= 200000)]['experience_level'].values)\n",
    "\n",
    "# df2[(df2['salary_in_usd'] >= 150000) & (df2['salary_in_usd'] <= 200000)]['experience_level'].values\n",
    "# aa = df2[df2['salary_in_usd'] >= 150000][['job_title','salary_in_usd']].reset_index()\n",
    "\n",
    "# aa[aa['job_title'] == 'Data Scientist'][aa['salary_in_usd'] > 180000]"
   ]
  },
  {
   "cell_type": "code",
   "execution_count": null,
   "id": "13757167",
   "metadata": {},
   "outputs": [],
   "source": [
    "df2.loc[601 , ['job_title','remote_ratio']]"
   ]
  },
  {
   "cell_type": "code",
   "execution_count": null,
   "id": "328b8b48",
   "metadata": {},
   "outputs": [],
   "source": [
    "df2[40:41][['salary','remote_ratio']]\n"
   ]
  },
  {
   "cell_type": "code",
   "execution_count": null,
   "id": "4f55dacf",
   "metadata": {},
   "outputs": [],
   "source": [
    "b = df2.sort_values(by = 'salary_in_usd', ascending  = False, ignore_index = True)\n",
    "b[(b['salary_in_usd'] ==5679)]\n"
   ]
  },
  {
   "cell_type": "code",
   "execution_count": null,
   "id": "5bc447ca",
   "metadata": {},
   "outputs": [],
   "source": [
    "df2[df2['remote_ratio'].notnull()]"
   ]
  },
  {
   "cell_type": "code",
   "execution_count": null,
   "id": "f3ae5703",
   "metadata": {},
   "outputs": [],
   "source": [
    "df2['salary'].isnull().value_counts()"
   ]
  },
  {
   "cell_type": "code",
   "execution_count": null,
   "id": "ed4c6c39",
   "metadata": {},
   "outputs": [],
   "source": [
    "df2.loc[2:4, 'experience_level' :  'salary_in_usd']\n"
   ]
  },
  {
   "cell_type": "code",
   "execution_count": null,
   "id": "c4cd80ac",
   "metadata": {},
   "outputs": [],
   "source": [
    "state_areas          = pd.read_csv('Downloads/state-areas.csv')\n",
    "state_population     = pd.read_csv('Downloads/state-population.csv')\n",
    "state_abbrevs        = pd.read_csv('Downloads/state-abbrevs.csv')\n",
    "\n",
    "state_abbrevs"
   ]
  },
  {
   "cell_type": "code",
   "execution_count": null,
   "id": "619e3cd6",
   "metadata": {},
   "outputs": [],
   "source": [
    "df1 = pd.merge(state_areas, state_abbrevs, how = 'outer')\n",
    "# df1[df1['abbreviation'].isnull()]\n",
    "# df1.loc[51,'abbreviation'] ='PR'\n",
    "state_population[state_population['year'] == 2010]"
   ]
  },
  {
   "cell_type": "code",
   "execution_count": null,
   "id": "f165d901",
   "metadata": {},
   "outputs": [],
   "source": [
    "df1"
   ]
  },
  {
   "cell_type": "code",
   "execution_count": null,
   "id": "6265694d",
   "metadata": {},
   "outputs": [],
   "source": [
    "df2 = pd.merge(df1, state_population, how = 'outer', left_on = 'abbreviation', right_on = 'state/region')\n",
    "df2['population_Density'] = df2['population'] / df2['area (sq. mi)']\n",
    "df2[df2['population_Density'] == df2['population_Density'].max()]"
   ]
  },
  {
   "cell_type": "code",
   "execution_count": null,
   "id": "f50629ee",
   "metadata": {},
   "outputs": [],
   "source": [
    "df2[df2['state'].isnull()]['state/region'].unique()"
   ]
  },
  {
   "cell_type": "code",
   "execution_count": null,
   "id": "020c1b71",
   "metadata": {},
   "outputs": [],
   "source": [
    "df2.loc[df2['state/region'] == 'PR', 'state'] = \"Puerti Rico\"\n",
    "df2.loc[df2['state/region'] == 'USA', 'state'] = \"UnitedSA\"\n",
    "df2[df2['state/region'] == 'USA']\n",
    "df2\n",
    "area_sum =  df2['area (sq. mi)'].unique()\n",
    "area_sum = np.delete(area_sum, (len(area_sum)-1))\n",
    "area_sum = np.sum(area_sum)\n",
    "area_sum\n"
   ]
  },
  {
   "cell_type": "code",
   "execution_count": null,
   "id": "029877d6",
   "metadata": {},
   "outputs": [],
   "source": [
    "df2.loc[df2['state/region'] == 'USA', 'area (sq. mi)'] = area_sum\n",
    "df2.loc[df2['state/region'] == 'USA', 'abbreviation'] = 'USA'\n",
    "df2.isnull().any()"
   ]
  },
  {
   "cell_type": "code",
   "execution_count": null,
   "id": "a70078e0",
   "metadata": {},
   "outputs": [],
   "source": [
    "df2"
   ]
  },
  {
   "cell_type": "code",
   "execution_count": null,
   "id": "8c951396",
   "metadata": {},
   "outputs": [],
   "source": [
    "df2.to_excel('Downloads/America_Data.xlsx')"
   ]
  },
  {
   "cell_type": "code",
   "execution_count": null,
   "id": "0f99b4bb",
   "metadata": {},
   "outputs": [],
   "source": [
    "df2[(df2['ages'] == 'total') & (df2['abbreviation']  != 'USA') & (df2['abbreviation'].notnull())]['population'].sum()"
   ]
  },
  {
   "cell_type": "code",
   "execution_count": null,
   "id": "f5c075c7",
   "metadata": {},
   "outputs": [],
   "source": [
    "df2.groupby('ages').sum()"
   ]
  },
  {
   "cell_type": "code",
   "execution_count": null,
   "id": "5e09bb25",
   "metadata": {},
   "outputs": [],
   "source": [
    "df1"
   ]
  },
  {
   "cell_type": "code",
   "execution_count": null,
   "id": "399ae89a",
   "metadata": {},
   "outputs": [],
   "source": [
    "df2"
   ]
  },
  {
   "cell_type": "code",
   "execution_count": null,
   "id": "a7abde74",
   "metadata": {},
   "outputs": [],
   "source": [
    "df1 = pd.read_csv('Downloads/online_sales_in_usa.csv')\n",
    "df1"
   ]
  },
  {
   "cell_type": "code",
   "execution_count": null,
   "id": "f1a53c73",
   "metadata": {},
   "outputs": [],
   "source": []
  },
  {
   "cell_type": "code",
   "execution_count": null,
   "id": "f5ef269b",
   "metadata": {},
   "outputs": [],
   "source": []
  },
  {
   "cell_type": "code",
   "execution_count": null,
   "id": "f228aa9c",
   "metadata": {},
   "outputs": [],
   "source": []
  },
  {
   "cell_type": "code",
   "execution_count": null,
   "id": "830dd3b6",
   "metadata": {},
   "outputs": [],
   "source": []
  },
  {
   "cell_type": "code",
   "execution_count": null,
   "id": "4aa45c67",
   "metadata": {},
   "outputs": [],
   "source": []
  },
  {
   "cell_type": "code",
   "execution_count": null,
   "id": "64ce3734",
   "metadata": {},
   "outputs": [],
   "source": [
    "def addition(a,b):\n",
    "    return a+b\n",
    "    \n",
    "def subtraction(a,b):\n",
    "    return a-b\n",
    "\n",
    "def multiplication(a,b):\n",
    "    return a*b\n",
    "\n",
    "def division(a,b):\n",
    "    return a/b"
   ]
  },
  {
   "cell_type": "code",
   "execution_count": null,
   "id": "335092a0",
   "metadata": {},
   "outputs": [],
   "source": [
    "multiplication(5,6)"
   ]
  },
  {
   "cell_type": "code",
   "execution_count": null,
   "id": "813b3c20",
   "metadata": {},
   "outputs": [],
   "source": [
    "df1 = sns.load_dataset('planets')\n",
    "df1[df1['method'] == 'Radial Velocity']\n",
    "df1.groupby('method').max()"
   ]
  },
  {
   "cell_type": "code",
   "execution_count": null,
   "id": "b073e2ec",
   "metadata": {},
   "outputs": [],
   "source": [
    "df = pd.DataFrame({'key': ['A', 'B', 'C', 'A', 'B', 'C'],\n",
    " 'data1': range(6),\n",
    " 'data2': np.random.randint(0, 10, 6)},\n",
    "                 )\n",
    "df.groupby('key').aggregate(['min', np.median, max])"
   ]
  },
  {
   "cell_type": "code",
   "execution_count": null,
   "id": "1a905bb3",
   "metadata": {},
   "outputs": [],
   "source": [
    "df1 = sns.load_dataset('planets')\n",
    "# df1[df1['method'].str.len() == df1['method'].str.len().max()]\n",
    "# df1['method'].apply(len).max()\n",
    "df1['method'].str.len().max()\n",
    "df1.query('orbital_period > 300 & distance.isnull()')\n"
   ]
  },
  {
   "cell_type": "code",
   "execution_count": null,
   "id": "beca48f4",
   "metadata": {},
   "outputs": [],
   "source": [
    "arr = np.array([0, 1, 2, 3, 4, 5, 6, 7, 8, 9])\n",
    "a = arr[(arr % 2 )==1]\n",
    "arr[(arr % 2 )==1] = -1\n",
    "arr"
   ]
  },
  {
   "cell_type": "code",
   "execution_count": null,
   "id": "36b217c2",
   "metadata": {},
   "outputs": [],
   "source": [
    "arr = np.full((3,3), True)\n",
    "arr"
   ]
  },
  {
   "cell_type": "code",
   "execution_count": null,
   "id": "d767cbbe",
   "metadata": {},
   "outputs": [],
   "source": [
    "np.random.seed(100)\n",
    "rand_arr = np.random.random([3,3])/1e3\n",
    "np.set_printoptions(suppress = True)\n",
    "rand_arr"
   ]
  },
  {
   "cell_type": "code",
   "execution_count": null,
   "id": "2af04f4d",
   "metadata": {},
   "outputs": [],
   "source": [
    "url = 'https://archive.ics.uci.edu/ml/machine-learning-databases/iris/iris.data'\n",
    "iris = np.genfromtxt(url, delimiter=',', dtype='object')\n",
    "iris"
   ]
  },
  {
   "cell_type": "code",
   "execution_count": null,
   "id": "2c1b8ec4",
   "metadata": {},
   "outputs": [],
   "source": [
    "import requests, bs4\n",
    "import pandas as pd\n",
    "\n",
    "to_search = \"Introduction to Linear Algebra\"\n",
    "pdf_title = to_search\n",
    "to_search_online = to_search.replace(\" \", \"+\")\n",
    "link_to_search = f\"https://libgen.is/search.php?req={to_search_online}&lg_topic=libgen&open=0&view=simple&res=25&phrase=1&column=def\"\n",
    "\n",
    "list_of_dataframes = pd.read_html(link_to_search)\n",
    "table = list_of_dataframes[2]\n",
    "a = list(table.loc[0])\n",
    "\n",
    "table.columns = a\n",
    "table.drop(0 , axis = 0, inplace = True)\n",
    "table = table[table['Extension'] == 'pdf']\n",
    "\n",
    "table.reset_index(inplace = True)\n",
    "table.sort_values('Year', ascending = False, inplace = True)\n",
    "\n",
    "# index_number =  (table.head(1).index)[0]       \n",
    "index_number = table.head(1).index\n",
    "table.head(1)\n",
    "# result = requests.get(link_to_search)\n",
    "\n",
    "# soup = bs4.BeautifulSoup(result.text,\"lxml\")\n",
    "\n",
    "# a = soup.select(\".c > tr > td > a\")\n",
    "\n",
    "# c = []\n",
    "# for i in a :\n",
    "#     b = i.get('href')\n",
    "#     if(b.find(\"book\") == 0):\n",
    "#         c.append(b.split(\"=\")[1])\n",
    "\n",
    "# index_of_book_to_download = c\n",
    "# link_of_download_page = f\"http://library.lol/main/{index_of_book_to_download[index_number]}\"\n",
    "\n",
    "# result_2 = requests.get(link_of_download_page)\n",
    "\n",
    "# soup = bs4.BeautifulSoup(result_2.text,\"lxml\")\n",
    "\n",
    "# d = soup.select(\"#download > h2 > a\")\n",
    "\n",
    "# download_link = d[0].get('href')\n",
    "\n",
    "# r = requests.get(download_link, stream = True)\n",
    "\n",
    "\n",
    "# with open(f\"Downloads/{pdf_title}.pdf\",\"wb\") as pdf:\n",
    "#     for chunk in r.iter_content(chunk_size=1000000):\n",
    "  \n",
    "#          if chunk:\n",
    "#              pdf.write(chunk)\n"
   ]
  },
  {
   "cell_type": "code",
   "execution_count": null,
   "id": "7c59cc3b",
   "metadata": {},
   "outputs": [],
   "source": []
  },
  {
   "cell_type": "code",
   "execution_count": null,
   "id": "4795f089",
   "metadata": {},
   "outputs": [],
   "source": [
    "import requests, bs4\n",
    "import pandas as pd\n",
    "\n",
    "author = \"\"\n",
    "author = author.split()\n",
    "to_search = \"\"\n",
    "pdf_title = to_search\n",
    "to_search_online = to_search.replace(\" \", \"+\")\n",
    "link_to_search = f\"https://libgen.is/search.php?req={to_search_online}&open=0&res=100&view=simple&phrase=1&column=title\"\n",
    "\n",
    "list_of_dataframes = pd.read_html(link_to_search)\n",
    "table = list_of_dataframes[2]\n",
    "# table\n",
    "a = list(table.loc[0])\n",
    "\n",
    "table.columns = a\n",
    "table.drop(0 , axis = 0, inplace = True)\n",
    "table.reset_index(inplace = True)\n",
    "table = table[(table['Extension'] == 'pdf')]\n",
    "# table\n",
    "table.sort_values('Year', ascending = False, inplace = True)\n",
    "table_2 = table[['Author(s)', 'Title']]\n",
    "# table_2\n",
    "index_number = 0\n",
    "\n",
    "def check_for_author(index_for_author):\n",
    "    actual_author_name = table_2['Author(s)'][index_for_author] \n",
    "    result = False\n",
    "    for i in author :\n",
    "        if actual_author_name.find(i) > -1 :\n",
    "            result = True\n",
    "            break\n",
    "    return result\n",
    "\n",
    "for i in table_2.index :\n",
    "    if((table_2['Title'][i].find(to_search) == 0 ) & (check_for_author(i))) :\n",
    "        index_number = i\n",
    "        break\n",
    "\n",
    "my_dict = dict(table['Title'])\n",
    "for i in my_dict :\n",
    "    if(my_dict[i].find(to_search) == 0):\n",
    "        index_number = i\n",
    "        break\n",
    "\n",
    "result = requests.get(link_to_search)\n",
    "\n",
    "soup = bs4.BeautifulSoup(result.text,\"lxml\")\n",
    "\n",
    "a = soup.select(\".c > tr > td > a\")\n",
    "\n",
    "c = []\n",
    "for i in a :\n",
    "    b = i.get('href')\n",
    "    if(b.find(\"book\") == 0):\n",
    "        c.append(b.split(\"=\")[1])\n",
    "\n",
    "index_of_book_to_download = c\n",
    "link_of_download_page = f\"http://library.lol/main/{index_of_book_to_download[index_number]}\"\n",
    "\n",
    "result_2 = requests.get(link_of_download_page)\n",
    "\n",
    "soup = bs4.BeautifulSoup(result_2.text,\"lxml\")\n",
    "\n",
    "d = soup.select(\"#download > h2 > a\")\n",
    "\n",
    "download_link = d[0].get('href')\n",
    "\n",
    "r = requests.get(download_link, stream = True)\n",
    "\n",
    "\n",
    "with open(f\"Downloads/{pdf_title}.pdf\",\"wb\") as pdf:\n",
    "    for chunk in r.iter_content(chunk_size=1000000):\n",
    "  \n",
    "         if chunk:\n",
    "             pdf.write(chunk)\n"
   ]
  },
  {
   "cell_type": "code",
   "execution_count": null,
   "id": "9d419d25",
   "metadata": {},
   "outputs": [],
   "source": [
    "#For PDF DRIVE\n",
    "\n",
    "#search_link = 'https://www.pdfdrive.com/{...................}-books.html'\n",
    "\n",
    "\n",
    "\n",
    "import requests, bs4\n",
    "import pandas as pd\n",
    "\n",
    "author = \"\"\n",
    "author = author.split()\n",
    "to_search = \"Web Scraping with Python\"\n",
    "pdf_title = to_search\n",
    "to_search_online = to_search.replace(\" \", \"-\")\n",
    "link_to_search = f\"http://www.pdfdrive.com/{to_search_online}-books.html\"\n",
    "\n",
    "\n",
    "\n",
    "result = requests.get(link_to_search)\n",
    "\n",
    "soup = bs4.BeautifulSoup(result.text,\"lxml\")\n",
    "\n",
    "name_of_books       = soup.select(\".ai-search > h2\")\n",
    "year_of_books       = soup.select(\".file-info > .fi-year \")\n",
    "downloads_of_books   = soup.select(\".file-info > .fi-hit\")\n",
    "to_make_download_links = soup.select(\".file-right > a \")\n",
    "\n",
    "\n",
    "\n",
    "a = []\n",
    "b = []\n",
    "\n",
    "for x in name_of_books :\n",
    "    a.append(x.getText())\n",
    "\n",
    "for y in downloads_of_books : \n",
    "    b.append(int(y.getText().split(\" \")[0].replace(',','')))\n",
    "    \n",
    "\n",
    "    \n",
    "df_book  = pd.DataFrame(data = zip(a,b), columns = ['Book', 'Downloads'])\n",
    "\n",
    "df_book.sort_values('Downloads', ascending= False, inplace = True)\n",
    "\n",
    "\n",
    "index_of_book = 0\n",
    "\n",
    "for x in df_book.index:\n",
    "    if(df_book.loc[x]['Book'].find(to_search) == 0) :\n",
    "        index_of_book = x\n",
    "        break\n",
    "\n",
    "raw_download_link = to_make_download_links[index_of_book].get('href')\n",
    "\n",
    "download_link = raw_download_link[::-1].replace('e', 'd', 1)[::-1]\n",
    "download_link\n",
    "\n",
    "link_of_download_page = f\"http://www.pdfdrive.com{download_link}\"\n",
    "link_of_download_page\n",
    "\n",
    "result_2 = requests.get(link_of_download_page)\n",
    "\n",
    "soup = bs4.BeautifulSoup(result_2.text,\"lxml\")\n",
    "\n",
    "\n",
    "d = soup.select(\".dialog > .dialog-main > .dialog-left > .ebook-main\")\n",
    "d\n",
    "# download_link = \"\"\n",
    "\n",
    "# for x in d:\n",
    "#     print(x.get('href'))\n",
    "# #     if (x.get('href').find(\"/download\") == 0):\n",
    "# #         download_link = x.get('href')\n",
    "# #         print x.get('href')\n",
    "# #         break\n",
    "# # download_link\n",
    "    \n",
    "# download_link = d[0].get('href')\n",
    "\n",
    "# r = requests.get(\"https://www.pdfdrive.com/download.pdf?id=156852032&h=11fba076a6384bbf99bc5765d63b64af&u=cache&ext=pdf\", stream = True)\n",
    "\n",
    "\n",
    "# with open(f\"Downloads/{pdf_title}.pdf\",\"wb\") as pdf:\n",
    "#     for chunk in r.iter_content(chunk_size=1000000):\n",
    "  \n",
    "#          if chunk:\n",
    "#              pdf.write(chunk)\n",
    "# https://www.pdfdrive.com/henry-huggins-d185567187.html"
   ]
  },
  {
   "cell_type": "code",
   "execution_count": null,
   "id": "a6920a15",
   "metadata": {},
   "outputs": [],
   "source": []
  },
  {
   "cell_type": "code",
   "execution_count": 27,
   "id": "c951ba5f",
   "metadata": {},
   "outputs": [
    {
     "name": "stdout",
     "output_type": "stream",
     "text": [
      "<class 'pandas.core.frame.DataFrame'>\n",
      "RangeIndex: 1000 entries, 0 to 999\n",
      "Data columns (total 9 columns):\n",
      " #   Column              Non-Null Count  Dtype  \n",
      "---  ------              --------------  -----  \n",
      " 0   Unnamed: 0          1000 non-null   int64  \n",
      " 1   Movie Name          1000 non-null   object \n",
      " 2   Year of Release     1000 non-null   object \n",
      " 3   Watch Time          1000 non-null   object \n",
      " 4   Movie Rating        1000 non-null   float64\n",
      " 5   Meatscore of movie  1000 non-null   object \n",
      " 6   Votes               1000 non-null   object \n",
      " 7   Gross               1000 non-null   object \n",
      " 8   Description         1000 non-null   object \n",
      "dtypes: float64(1), int64(1), object(7)\n",
      "memory usage: 70.4+ KB\n"
     ]
    }
   ],
   "source": [
    "import numpy as np, pandas as pd, seaborn as sns\n",
    "import matplotlib.pyplot as plt\n",
    "%matplotlib inline\n",
    "\n",
    "\n",
    "df1 = pd.read_csv(\"Downloads/Top 1000 IMDB movies (1).csv\")\n",
    "df1.info()"
   ]
  },
  {
   "cell_type": "code",
   "execution_count": 28,
   "id": "68ce862c",
   "metadata": {},
   "outputs": [
    {
     "data": {
      "text/html": [
       "<div>\n",
       "<style scoped>\n",
       "    .dataframe tbody tr th:only-of-type {\n",
       "        vertical-align: middle;\n",
       "    }\n",
       "\n",
       "    .dataframe tbody tr th {\n",
       "        vertical-align: top;\n",
       "    }\n",
       "\n",
       "    .dataframe thead th {\n",
       "        text-align: right;\n",
       "    }\n",
       "</style>\n",
       "<table border=\"1\" class=\"dataframe\">\n",
       "  <thead>\n",
       "    <tr style=\"text-align: right;\">\n",
       "      <th></th>\n",
       "      <th>Unnamed: 0</th>\n",
       "      <th>Movie Rating</th>\n",
       "    </tr>\n",
       "  </thead>\n",
       "  <tbody>\n",
       "    <tr>\n",
       "      <th>count</th>\n",
       "      <td>1000.000000</td>\n",
       "      <td>1000.000000</td>\n",
       "    </tr>\n",
       "    <tr>\n",
       "      <th>mean</th>\n",
       "      <td>499.500000</td>\n",
       "      <td>7.962700</td>\n",
       "    </tr>\n",
       "    <tr>\n",
       "      <th>std</th>\n",
       "      <td>288.819436</td>\n",
       "      <td>0.276759</td>\n",
       "    </tr>\n",
       "    <tr>\n",
       "      <th>min</th>\n",
       "      <td>0.000000</td>\n",
       "      <td>7.600000</td>\n",
       "    </tr>\n",
       "    <tr>\n",
       "      <th>25%</th>\n",
       "      <td>249.750000</td>\n",
       "      <td>7.700000</td>\n",
       "    </tr>\n",
       "    <tr>\n",
       "      <th>50%</th>\n",
       "      <td>499.500000</td>\n",
       "      <td>7.900000</td>\n",
       "    </tr>\n",
       "    <tr>\n",
       "      <th>75%</th>\n",
       "      <td>749.250000</td>\n",
       "      <td>8.100000</td>\n",
       "    </tr>\n",
       "    <tr>\n",
       "      <th>max</th>\n",
       "      <td>999.000000</td>\n",
       "      <td>9.300000</td>\n",
       "    </tr>\n",
       "  </tbody>\n",
       "</table>\n",
       "</div>"
      ],
      "text/plain": [
       "        Unnamed: 0  Movie Rating\n",
       "count  1000.000000   1000.000000\n",
       "mean    499.500000      7.962700\n",
       "std     288.819436      0.276759\n",
       "min       0.000000      7.600000\n",
       "25%     249.750000      7.700000\n",
       "50%     499.500000      7.900000\n",
       "75%     749.250000      8.100000\n",
       "max     999.000000      9.300000"
      ]
     },
     "execution_count": 28,
     "metadata": {},
     "output_type": "execute_result"
    }
   ],
   "source": [
    "df1.describe()"
   ]
  },
  {
   "cell_type": "code",
   "execution_count": 29,
   "id": "4be0cfb6",
   "metadata": {},
   "outputs": [
    {
     "data": {
      "text/html": [
       "<div>\n",
       "<style scoped>\n",
       "    .dataframe tbody tr th:only-of-type {\n",
       "        vertical-align: middle;\n",
       "    }\n",
       "\n",
       "    .dataframe tbody tr th {\n",
       "        vertical-align: top;\n",
       "    }\n",
       "\n",
       "    .dataframe thead th {\n",
       "        text-align: right;\n",
       "    }\n",
       "</style>\n",
       "<table border=\"1\" class=\"dataframe\">\n",
       "  <thead>\n",
       "    <tr style=\"text-align: right;\">\n",
       "      <th></th>\n",
       "      <th>Unnamed: 0</th>\n",
       "      <th>Movie Name</th>\n",
       "      <th>Year of Release</th>\n",
       "      <th>Watch Time</th>\n",
       "      <th>Movie Rating</th>\n",
       "      <th>Meatscore of movie</th>\n",
       "      <th>Votes</th>\n",
       "      <th>Gross</th>\n",
       "      <th>Description</th>\n",
       "    </tr>\n",
       "  </thead>\n",
       "  <tbody>\n",
       "    <tr>\n",
       "      <th>0</th>\n",
       "      <td>0</td>\n",
       "      <td>The Shawshank Redemption</td>\n",
       "      <td>(1994)</td>\n",
       "      <td>142 min</td>\n",
       "      <td>9.3</td>\n",
       "      <td>81</td>\n",
       "      <td>34,709</td>\n",
       "      <td>$28.34M</td>\n",
       "      <td>Two imprisoned men bond over a number of years...</td>\n",
       "    </tr>\n",
       "    <tr>\n",
       "      <th>1</th>\n",
       "      <td>1</td>\n",
       "      <td>The Godfather</td>\n",
       "      <td>(1972)</td>\n",
       "      <td>175 min</td>\n",
       "      <td>9.2</td>\n",
       "      <td>100</td>\n",
       "      <td>34,709</td>\n",
       "      <td>$134.97M</td>\n",
       "      <td>The aging patriarch of an organized crime dyna...</td>\n",
       "    </tr>\n",
       "    <tr>\n",
       "      <th>2</th>\n",
       "      <td>2</td>\n",
       "      <td>The Dark Knight</td>\n",
       "      <td>(2008)</td>\n",
       "      <td>152 min</td>\n",
       "      <td>9.0</td>\n",
       "      <td>84</td>\n",
       "      <td>34,709</td>\n",
       "      <td>$534.86M</td>\n",
       "      <td>When the menace known as the Joker wreaks havo...</td>\n",
       "    </tr>\n",
       "    <tr>\n",
       "      <th>3</th>\n",
       "      <td>3</td>\n",
       "      <td>The Lord of the Rings: The Return of the King</td>\n",
       "      <td>(2003)</td>\n",
       "      <td>201 min</td>\n",
       "      <td>9.0</td>\n",
       "      <td>94</td>\n",
       "      <td>34,709</td>\n",
       "      <td>$377.85M</td>\n",
       "      <td>Gandalf and Aragorn lead the World of Men agai...</td>\n",
       "    </tr>\n",
       "    <tr>\n",
       "      <th>4</th>\n",
       "      <td>4</td>\n",
       "      <td>Schindler's List</td>\n",
       "      <td>(1993)</td>\n",
       "      <td>195 min</td>\n",
       "      <td>9.0</td>\n",
       "      <td>94</td>\n",
       "      <td>34,709</td>\n",
       "      <td>$96.90M</td>\n",
       "      <td>In German-occupied Poland during World War II,...</td>\n",
       "    </tr>\n",
       "    <tr>\n",
       "      <th>...</th>\n",
       "      <td>...</td>\n",
       "      <td>...</td>\n",
       "      <td>...</td>\n",
       "      <td>...</td>\n",
       "      <td>...</td>\n",
       "      <td>...</td>\n",
       "      <td>...</td>\n",
       "      <td>...</td>\n",
       "      <td>...</td>\n",
       "    </tr>\n",
       "    <tr>\n",
       "      <th>995</th>\n",
       "      <td>995</td>\n",
       "      <td>Sabrina</td>\n",
       "      <td>(1954)</td>\n",
       "      <td>113 min</td>\n",
       "      <td>7.6</td>\n",
       "      <td>72</td>\n",
       "      <td>34,709</td>\n",
       "      <td>%^%^%^</td>\n",
       "      <td>A playboy becomes interested in the daughter o...</td>\n",
       "    </tr>\n",
       "    <tr>\n",
       "      <th>996</th>\n",
       "      <td>996</td>\n",
       "      <td>From Here to Eternity</td>\n",
       "      <td>(1953)</td>\n",
       "      <td>118 min</td>\n",
       "      <td>7.6</td>\n",
       "      <td>85</td>\n",
       "      <td>34,709</td>\n",
       "      <td>$30.50M</td>\n",
       "      <td>At a U.S. Army base in 1941 Hawaii, a private ...</td>\n",
       "    </tr>\n",
       "    <tr>\n",
       "      <th>997</th>\n",
       "      <td>997</td>\n",
       "      <td>Snow White and the Seven Dwarfs</td>\n",
       "      <td>(1937)</td>\n",
       "      <td>83 min</td>\n",
       "      <td>7.6</td>\n",
       "      <td>95</td>\n",
       "      <td>34,709</td>\n",
       "      <td>$184.93M</td>\n",
       "      <td>Exiled into the dangerous forest by her wicked...</td>\n",
       "    </tr>\n",
       "    <tr>\n",
       "      <th>998</th>\n",
       "      <td>998</td>\n",
       "      <td>The 39 Steps</td>\n",
       "      <td>(1935)</td>\n",
       "      <td>86 min</td>\n",
       "      <td>7.6</td>\n",
       "      <td>93</td>\n",
       "      <td>34,709</td>\n",
       "      <td>%^%^%^</td>\n",
       "      <td>A man in London tries to help a counter-espion...</td>\n",
       "    </tr>\n",
       "    <tr>\n",
       "      <th>999</th>\n",
       "      <td>999</td>\n",
       "      <td>The Invisible Man</td>\n",
       "      <td>(1933)</td>\n",
       "      <td>71 min</td>\n",
       "      <td>7.6</td>\n",
       "      <td>87</td>\n",
       "      <td>34,709</td>\n",
       "      <td>%^%^%^</td>\n",
       "      <td>A scientist finds a way of becoming invisible,...</td>\n",
       "    </tr>\n",
       "  </tbody>\n",
       "</table>\n",
       "<p>1000 rows × 9 columns</p>\n",
       "</div>"
      ],
      "text/plain": [
       "     Unnamed: 0                                     Movie Name  \\\n",
       "0             0                       The Shawshank Redemption   \n",
       "1             1                                  The Godfather   \n",
       "2             2                                The Dark Knight   \n",
       "3             3  The Lord of the Rings: The Return of the King   \n",
       "4             4                               Schindler's List   \n",
       "..          ...                                            ...   \n",
       "995         995                                        Sabrina   \n",
       "996         996                          From Here to Eternity   \n",
       "997         997                Snow White and the Seven Dwarfs   \n",
       "998         998                                   The 39 Steps   \n",
       "999         999                              The Invisible Man   \n",
       "\n",
       "    Year of Release Watch Time  Movie Rating Meatscore of movie   Votes  \\\n",
       "0            (1994)    142 min           9.3         81          34,709   \n",
       "1            (1972)    175 min           9.2        100          34,709   \n",
       "2            (2008)    152 min           9.0         84          34,709   \n",
       "3            (2003)    201 min           9.0         94          34,709   \n",
       "4            (1993)    195 min           9.0         94          34,709   \n",
       "..              ...        ...           ...                ...     ...   \n",
       "995          (1954)    113 min           7.6         72          34,709   \n",
       "996          (1953)    118 min           7.6         85          34,709   \n",
       "997          (1937)     83 min           7.6         95          34,709   \n",
       "998          (1935)     86 min           7.6         93          34,709   \n",
       "999          (1933)     71 min           7.6         87          34,709   \n",
       "\n",
       "        Gross                                        Description  \n",
       "0     $28.34M  Two imprisoned men bond over a number of years...  \n",
       "1    $134.97M  The aging patriarch of an organized crime dyna...  \n",
       "2    $534.86M  When the menace known as the Joker wreaks havo...  \n",
       "3    $377.85M  Gandalf and Aragorn lead the World of Men agai...  \n",
       "4     $96.90M  In German-occupied Poland during World War II,...  \n",
       "..        ...                                                ...  \n",
       "995    %^%^%^  A playboy becomes interested in the daughter o...  \n",
       "996   $30.50M  At a U.S. Army base in 1941 Hawaii, a private ...  \n",
       "997  $184.93M  Exiled into the dangerous forest by her wicked...  \n",
       "998    %^%^%^  A man in London tries to help a counter-espion...  \n",
       "999    %^%^%^  A scientist finds a way of becoming invisible,...  \n",
       "\n",
       "[1000 rows x 9 columns]"
      ]
     },
     "execution_count": 29,
     "metadata": {},
     "output_type": "execute_result"
    }
   ],
   "source": [
    "df1"
   ]
  },
  {
   "cell_type": "code",
   "execution_count": 31,
   "id": "bdd04903",
   "metadata": {},
   "outputs": [
    {
     "data": {
      "text/plain": [
       "0      9\n",
       "1      9\n",
       "2      9\n",
       "3      9\n",
       "4      9\n",
       "      ..\n",
       "995    7\n",
       "996    7\n",
       "997    7\n",
       "998    7\n",
       "999    7\n",
       "Name: Movie Rating, Length: 1000, dtype: int64"
      ]
     },
     "execution_count": 31,
     "metadata": {},
     "output_type": "execute_result"
    }
   ],
   "source": [
    "def ele(x):\n",
    "    return int(x)\n",
    "\n",
    "df1['Movie Rating'].apply(ele)"
   ]
  },
  {
   "cell_type": "code",
   "execution_count": 32,
   "id": "9ad2166c",
   "metadata": {},
   "outputs": [
    {
     "data": {
      "text/html": [
       "<div>\n",
       "<style scoped>\n",
       "    .dataframe tbody tr th:only-of-type {\n",
       "        vertical-align: middle;\n",
       "    }\n",
       "\n",
       "    .dataframe tbody tr th {\n",
       "        vertical-align: top;\n",
       "    }\n",
       "\n",
       "    .dataframe thead th {\n",
       "        text-align: right;\n",
       "    }\n",
       "</style>\n",
       "<table border=\"1\" class=\"dataframe\">\n",
       "  <thead>\n",
       "    <tr style=\"text-align: right;\">\n",
       "      <th></th>\n",
       "      <th>Unnamed: 0</th>\n",
       "      <th>Movie Name</th>\n",
       "      <th>Year of Release</th>\n",
       "      <th>Watch Time</th>\n",
       "      <th>Movie Rating</th>\n",
       "      <th>Meatscore of movie</th>\n",
       "      <th>Votes</th>\n",
       "      <th>Gross</th>\n",
       "      <th>Description</th>\n",
       "    </tr>\n",
       "  </thead>\n",
       "  <tbody>\n",
       "    <tr>\n",
       "      <th>0</th>\n",
       "      <td>0</td>\n",
       "      <td>The Shawshank Redemption</td>\n",
       "      <td>(1994)</td>\n",
       "      <td>142 min</td>\n",
       "      <td>9.3</td>\n",
       "      <td>81</td>\n",
       "      <td>34,709</td>\n",
       "      <td>$28.34M</td>\n",
       "      <td>Two imprisoned men bond over a number of years...</td>\n",
       "    </tr>\n",
       "    <tr>\n",
       "      <th>1</th>\n",
       "      <td>1</td>\n",
       "      <td>The Godfather</td>\n",
       "      <td>(1972)</td>\n",
       "      <td>175 min</td>\n",
       "      <td>9.2</td>\n",
       "      <td>100</td>\n",
       "      <td>34,709</td>\n",
       "      <td>$134.97M</td>\n",
       "      <td>The aging patriarch of an organized crime dyna...</td>\n",
       "    </tr>\n",
       "    <tr>\n",
       "      <th>2</th>\n",
       "      <td>2</td>\n",
       "      <td>The Dark Knight</td>\n",
       "      <td>(2008)</td>\n",
       "      <td>152 min</td>\n",
       "      <td>9.0</td>\n",
       "      <td>84</td>\n",
       "      <td>34,709</td>\n",
       "      <td>$534.86M</td>\n",
       "      <td>When the menace known as the Joker wreaks havo...</td>\n",
       "    </tr>\n",
       "    <tr>\n",
       "      <th>3</th>\n",
       "      <td>3</td>\n",
       "      <td>The Lord of the Rings: The Return of the King</td>\n",
       "      <td>(2003)</td>\n",
       "      <td>201 min</td>\n",
       "      <td>9.0</td>\n",
       "      <td>94</td>\n",
       "      <td>34,709</td>\n",
       "      <td>$377.85M</td>\n",
       "      <td>Gandalf and Aragorn lead the World of Men agai...</td>\n",
       "    </tr>\n",
       "    <tr>\n",
       "      <th>4</th>\n",
       "      <td>4</td>\n",
       "      <td>Schindler's List</td>\n",
       "      <td>(1993)</td>\n",
       "      <td>195 min</td>\n",
       "      <td>9.0</td>\n",
       "      <td>94</td>\n",
       "      <td>34,709</td>\n",
       "      <td>$96.90M</td>\n",
       "      <td>In German-occupied Poland during World War II,...</td>\n",
       "    </tr>\n",
       "    <tr>\n",
       "      <th>...</th>\n",
       "      <td>...</td>\n",
       "      <td>...</td>\n",
       "      <td>...</td>\n",
       "      <td>...</td>\n",
       "      <td>...</td>\n",
       "      <td>...</td>\n",
       "      <td>...</td>\n",
       "      <td>...</td>\n",
       "      <td>...</td>\n",
       "    </tr>\n",
       "    <tr>\n",
       "      <th>995</th>\n",
       "      <td>995</td>\n",
       "      <td>Sabrina</td>\n",
       "      <td>(1954)</td>\n",
       "      <td>113 min</td>\n",
       "      <td>7.6</td>\n",
       "      <td>72</td>\n",
       "      <td>34,709</td>\n",
       "      <td>%^%^%^</td>\n",
       "      <td>A playboy becomes interested in the daughter o...</td>\n",
       "    </tr>\n",
       "    <tr>\n",
       "      <th>996</th>\n",
       "      <td>996</td>\n",
       "      <td>From Here to Eternity</td>\n",
       "      <td>(1953)</td>\n",
       "      <td>118 min</td>\n",
       "      <td>7.6</td>\n",
       "      <td>85</td>\n",
       "      <td>34,709</td>\n",
       "      <td>$30.50M</td>\n",
       "      <td>At a U.S. Army base in 1941 Hawaii, a private ...</td>\n",
       "    </tr>\n",
       "    <tr>\n",
       "      <th>997</th>\n",
       "      <td>997</td>\n",
       "      <td>Snow White and the Seven Dwarfs</td>\n",
       "      <td>(1937)</td>\n",
       "      <td>83 min</td>\n",
       "      <td>7.6</td>\n",
       "      <td>95</td>\n",
       "      <td>34,709</td>\n",
       "      <td>$184.93M</td>\n",
       "      <td>Exiled into the dangerous forest by her wicked...</td>\n",
       "    </tr>\n",
       "    <tr>\n",
       "      <th>998</th>\n",
       "      <td>998</td>\n",
       "      <td>The 39 Steps</td>\n",
       "      <td>(1935)</td>\n",
       "      <td>86 min</td>\n",
       "      <td>7.6</td>\n",
       "      <td>93</td>\n",
       "      <td>34,709</td>\n",
       "      <td>%^%^%^</td>\n",
       "      <td>A man in London tries to help a counter-espion...</td>\n",
       "    </tr>\n",
       "    <tr>\n",
       "      <th>999</th>\n",
       "      <td>999</td>\n",
       "      <td>The Invisible Man</td>\n",
       "      <td>(1933)</td>\n",
       "      <td>71 min</td>\n",
       "      <td>7.6</td>\n",
       "      <td>87</td>\n",
       "      <td>34,709</td>\n",
       "      <td>%^%^%^</td>\n",
       "      <td>A scientist finds a way of becoming invisible,...</td>\n",
       "    </tr>\n",
       "  </tbody>\n",
       "</table>\n",
       "<p>1000 rows × 9 columns</p>\n",
       "</div>"
      ],
      "text/plain": [
       "     Unnamed: 0                                     Movie Name  \\\n",
       "0             0                       The Shawshank Redemption   \n",
       "1             1                                  The Godfather   \n",
       "2             2                                The Dark Knight   \n",
       "3             3  The Lord of the Rings: The Return of the King   \n",
       "4             4                               Schindler's List   \n",
       "..          ...                                            ...   \n",
       "995         995                                        Sabrina   \n",
       "996         996                          From Here to Eternity   \n",
       "997         997                Snow White and the Seven Dwarfs   \n",
       "998         998                                   The 39 Steps   \n",
       "999         999                              The Invisible Man   \n",
       "\n",
       "    Year of Release Watch Time  Movie Rating Meatscore of movie   Votes  \\\n",
       "0            (1994)    142 min           9.3         81          34,709   \n",
       "1            (1972)    175 min           9.2        100          34,709   \n",
       "2            (2008)    152 min           9.0         84          34,709   \n",
       "3            (2003)    201 min           9.0         94          34,709   \n",
       "4            (1993)    195 min           9.0         94          34,709   \n",
       "..              ...        ...           ...                ...     ...   \n",
       "995          (1954)    113 min           7.6         72          34,709   \n",
       "996          (1953)    118 min           7.6         85          34,709   \n",
       "997          (1937)     83 min           7.6         95          34,709   \n",
       "998          (1935)     86 min           7.6         93          34,709   \n",
       "999          (1933)     71 min           7.6         87          34,709   \n",
       "\n",
       "        Gross                                        Description  \n",
       "0     $28.34M  Two imprisoned men bond over a number of years...  \n",
       "1    $134.97M  The aging patriarch of an organized crime dyna...  \n",
       "2    $534.86M  When the menace known as the Joker wreaks havo...  \n",
       "3    $377.85M  Gandalf and Aragorn lead the World of Men agai...  \n",
       "4     $96.90M  In German-occupied Poland during World War II,...  \n",
       "..        ...                                                ...  \n",
       "995    %^%^%^  A playboy becomes interested in the daughter o...  \n",
       "996   $30.50M  At a U.S. Army base in 1941 Hawaii, a private ...  \n",
       "997  $184.93M  Exiled into the dangerous forest by her wicked...  \n",
       "998    %^%^%^  A man in London tries to help a counter-espion...  \n",
       "999    %^%^%^  A scientist finds a way of becoming invisible,...  \n",
       "\n",
       "[1000 rows x 9 columns]"
      ]
     },
     "execution_count": 32,
     "metadata": {},
     "output_type": "execute_result"
    }
   ],
   "source": [
    "df1"
   ]
  },
  {
   "cell_type": "code",
   "execution_count": 14,
   "id": "dec13679",
   "metadata": {},
   "outputs": [
    {
     "data": {
      "text/plain": [
       "<AxesSubplot:xlabel='Watch Time', ylabel='Count'>"
      ]
     },
     "execution_count": 14,
     "metadata": {},
     "output_type": "execute_result"
    },
    {
     "data": {
      "image/png": "[encoded data removed]",
      "text/plain": [
       "<Figure size 432x288 with 1 Axes>"
      ]
     },
     "metadata": {
      "needs_background": "light"
     },
     "output_type": "display_data"
    }
   ],
   "source": [
    "sns.histplot(df1['Watch Time'])\n"
   ]
  },
  {
   "cell_type": "code",
   "execution_count": null,
   "id": "1c635cad",
   "metadata": {},
   "outputs": [],
   "source": []
  }
 ],
 "metadata": {
  "kernelspec": {
   "display_name": "Python 3.10.5 64-bit",
   "language": "python",
   "name": "python3"
  },
  "language_info": {
   "codemirror_mode": {
    "name": "ipython",
    "version": 3
   },
   "file_extension": ".py",
   "mimetype": "text/x-python",
   "name": "python",
   "nbconvert_exporter": "python",
   "pygments_lexer": "ipython3",
   "version": "3.10.5"
  },
  "vscode": {
   "interpreter": {
    "hash": "a8ece83ef226a161ae333af95829d03f4258b865b4b4b78640814afb47bf9a92"
   }
  }
 },
 "nbformat": 4,
 "nbformat_minor": 5
}
