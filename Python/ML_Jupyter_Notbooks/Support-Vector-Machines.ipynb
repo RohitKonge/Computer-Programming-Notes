{
 "cells": [
  {
   "cell_type": "code",
   "execution_count": null,
   "metadata": {},
   "outputs": [],
   "source": [
    "from sklearn.svm import SVC\n",
    "model = SVC()\n",
    "model.fit(X_Train, y_train)\n",
    "predictions = model.predict(X_test)"
   ]
  },
  {
   "cell_type": "code",
   "execution_count": null,
   "metadata": {},
   "outputs": [],
   "source": [
    "# To search the best parameters to change\n",
    "\n",
    "from sklearn.grid_search import GridSearchCV\n",
    "# This takes in a Dictionary that describes the parameters that should be trid in a model\n",
    "# Here, the keys are parameters and the values are a list of setting to be tested"
   ]
  },
  {
   "cell_type": "code",
   "execution_count": null,
   "metadata": {},
   "outputs": [],
   "source": []
  }
 ],
 "metadata": {
  "language_info": {
   "name": "python"
  },
  "orig_nbformat": 4
 },
 "nbformat": 4,
 "nbformat_minor": 2
}
